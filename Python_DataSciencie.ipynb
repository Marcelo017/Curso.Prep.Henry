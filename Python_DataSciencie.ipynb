{
  "nbformat": 4,
  "nbformat_minor": 0,
  "metadata": {
    "colab": {
      "provenance": [],
      "authorship_tag": "ABX9TyOQWOTLu5hlGHFZKwtm6YKE",
      "include_colab_link": true
    },
    "kernelspec": {
      "name": "python3",
      "display_name": "Python 3"
    },
    "language_info": {
      "name": "python"
    }
  },
  "cells": [
    {
      "cell_type": "markdown",
      "metadata": {
        "id": "view-in-github",
        "colab_type": "text"
      },
      "source": [
        "<a href=\"https://colab.research.google.com/github/Marcelo017/Curso.Prep.Henry/blob/master/Python_DataSciencie.ipynb\" target=\"_parent\"><img src=\"https://colab.research.google.com/assets/colab-badge.svg\" alt=\"Open In Colab\"/></a>"
      ]
    },
    {
      "cell_type": "markdown",
      "source": [
        "#**Python para DS introduccion al lenguaje**"
      ],
      "metadata": {
        "id": "uoZ7Gc6y78E6"
      }
    },
    {
      "cell_type": "code",
      "execution_count": 1,
      "metadata": {
        "colab": {
          "base_uri": "https://localhost:8080/"
        },
        "id": "0DsHTfSz7yoh",
        "outputId": "fb480921-78f9-4601-b4bf-17b1598c5e2a"
      },
      "outputs": [
        {
          "output_type": "execute_result",
          "data": {
            "text/plain": [
              "2"
            ]
          },
          "metadata": {},
          "execution_count": 1
        }
      ],
      "source": []
    },
    {
      "cell_type": "code",
      "source": [
        "'Marcelo'"
      ],
      "metadata": {
        "colab": {
          "base_uri": "https://localhost:8080/",
          "height": 35
        },
        "id": "wI5WW3W18w3_",
        "outputId": "5ae0c85e-a375-4028-91a1-f25cdaf9aa42"
      },
      "execution_count": 2,
      "outputs": [
        {
          "output_type": "execute_result",
          "data": {
            "text/plain": [
              "'Marcelo'"
            ],
            "application/vnd.google.colaboratory.intrinsic+json": {
              "type": "string"
            }
          },
          "metadata": {},
          "execution_count": 2
        }
      ]
    },
    {
      "cell_type": "code",
      "source": [
        "nombre = 'Marcelo'"
      ],
      "metadata": {
        "id": "cbXFv-279BEi"
      },
      "execution_count": 2,
      "outputs": []
    },
    {
      "cell_type": "code",
      "source": [
        "nombre"
      ],
      "metadata": {
        "colab": {
          "base_uri": "https://localhost:8080/",
          "height": 35
        },
        "id": "-R09Xxkmf86q",
        "outputId": "ffa8a546-cfd7-4717-8ae6-dc9d84cc801e"
      },
      "execution_count": 3,
      "outputs": [
        {
          "output_type": "execute_result",
          "data": {
            "text/plain": [
              "'Marcelo'"
            ],
            "application/vnd.google.colaboratory.intrinsic+json": {
              "type": "string"
            }
          },
          "metadata": {},
          "execution_count": 3
        }
      ]
    },
    {
      "cell_type": "code",
      "source": [
        "edad = 29"
      ],
      "metadata": {
        "id": "sMwVhgWYf-yl"
      },
      "execution_count": 4,
      "outputs": []
    },
    {
      "cell_type": "code",
      "source": [
        "edad"
      ],
      "metadata": {
        "colab": {
          "base_uri": "https://localhost:8080/"
        },
        "id": "MFkNQsoMgDYc",
        "outputId": "f18141d7-e4fa-4cb2-c7d3-f3f74e5fbfba"
      },
      "execution_count": 5,
      "outputs": [
        {
          "output_type": "execute_result",
          "data": {
            "text/plain": [
              "29"
            ]
          },
          "metadata": {},
          "execution_count": 5
        }
      ]
    },
    {
      "cell_type": "code",
      "source": [
        "print ('El nombre es Marcelo y su edad es 29 anhos')"
      ],
      "metadata": {
        "colab": {
          "base_uri": "https://localhost:8080/"
        },
        "id": "slOa27TVgFmM",
        "outputId": "fc68ea27-bcc5-4807-bfae-c282a8034565"
      },
      "execution_count": 6,
      "outputs": [
        {
          "output_type": "stream",
          "name": "stdout",
          "text": [
            "El nombre es Marcelo y su edad es 29 anhos\n"
          ]
        }
      ]
    },
    {
      "cell_type": "code",
      "source": [
        "edad = 30"
      ],
      "metadata": {
        "id": "vrllaWIjhC3f"
      },
      "execution_count": 7,
      "outputs": []
    },
    {
      "cell_type": "markdown",
      "source": [
        "#Mi primera funcion"
      ],
      "metadata": {
        "id": "rMbLLaatha5O"
      }
    },
    {
      "cell_type": "code",
      "source": [
        "print(f'Su nombre es {nombre} y su edad es {edad} anhos')"
      ],
      "metadata": {
        "colab": {
          "base_uri": "https://localhost:8080/"
        },
        "id": "mZGUmXfLh-VY",
        "outputId": "4b77d389-efd3-471f-ccae-069a044e1c2b"
      },
      "execution_count": 8,
      "outputs": [
        {
          "output_type": "stream",
          "name": "stdout",
          "text": [
            "Su nombre es Marcelo y su edad es 30 anhos\n"
          ]
        }
      ]
    },
    {
      "cell_type": "code",
      "source": [
        "def saludar (): \n",
        "  nombre = input('Digite su nombre: ')\n",
        "  print(f'Hola {nombre} sea bienvenido!!!')"
      ],
      "metadata": {
        "id": "L2eh_FITimXG"
      },
      "execution_count": 10,
      "outputs": []
    },
    {
      "cell_type": "code",
      "source": [
        "saludar()"
      ],
      "metadata": {
        "colab": {
          "base_uri": "https://localhost:8080/"
        },
        "id": "BCbMOtnFj1hl",
        "outputId": "88849ef9-26f7-4875-dd45-2a2131f00f1e"
      },
      "execution_count": 11,
      "outputs": [
        {
          "output_type": "stream",
          "name": "stdout",
          "text": [
            "Digite su nombre: Marcelo\n",
            "Hola Marcelo sea bienvenido!!!\n"
          ]
        }
      ]
    },
    {
      "cell_type": "code",
      "source": [
        "saludar()"
      ],
      "metadata": {
        "colab": {
          "base_uri": "https://localhost:8080/"
        },
        "id": "OcLmCOR0j_yA",
        "outputId": "ab2e5ded-f362-4b47-d721-8495e5b6539b"
      },
      "execution_count": 12,
      "outputs": [
        {
          "output_type": "stream",
          "name": "stdout",
          "text": [
            "Digite su nombre: Elisa \n",
            "Hola Elisa  sea bienvenido!!!\n"
          ]
        }
      ]
    },
    {
      "cell_type": "markdown",
      "source": [
        "#Funcion con parametros"
      ],
      "metadata": {
        "id": "EJJAROQUrEA_"
      }
    },
    {
      "cell_type": "code",
      "source": [
        "name = 'Melina'"
      ],
      "metadata": {
        "id": "7hqadTDwkGQc"
      },
      "execution_count": 20,
      "outputs": []
    },
    {
      "cell_type": "code",
      "source": [
        "def saludarConParametros(nombre): \n",
        "  print(f'Hola {nombre} bienvenido!!!')"
      ],
      "metadata": {
        "id": "Se5MFEErpR3x"
      },
      "execution_count": 18,
      "outputs": []
    },
    {
      "cell_type": "code",
      "source": [
        "saludarConParametros(name)"
      ],
      "metadata": {
        "colab": {
          "base_uri": "https://localhost:8080/"
        },
        "id": "Y1R5AHPEqR0G",
        "outputId": "89e21c4d-2e69-4118-cfef-45b0efc7dc20"
      },
      "execution_count": 19,
      "outputs": [
        {
          "output_type": "stream",
          "name": "stdout",
          "text": [
            "Hola Melina bienvenido!!!\n"
          ]
        }
      ]
    },
    {
      "cell_type": "markdown",
      "source": [
        "#Condiconales "
      ],
      "metadata": {
        "id": "Vy4lMJGTriNP"
      }
    },
    {
      "cell_type": "code",
      "source": [
        "edad = 20 \n",
        "\n",
        "def verificar_si_puede_conducir(edad):\n",
        "  if edad >= 18: \n",
        "    print('Edad suficiente para conducir') \n",
        "  else: \n",
        "    print('Edad insuficiente para conducir')\n",
        "\n",
        "verificar_si_puede_conducir(edad)"
      ],
      "metadata": {
        "colab": {
          "base_uri": "https://localhost:8080/"
        },
        "id": "WC_kb1gzr0F-",
        "outputId": "c0c28513-5c20-40ec-bca2-2f0b305489c9"
      },
      "execution_count": 23,
      "outputs": [
        {
          "output_type": "stream",
          "name": "stdout",
          "text": [
            "Edad suficiente para conducir\n"
          ]
        }
      ]
    },
    {
      "cell_type": "code",
      "source": [
        "verificar_si_puede_conducir(13)"
      ],
      "metadata": {
        "colab": {
          "base_uri": "https://localhost:8080/"
        },
        "id": "cWqKEYIeskr0",
        "outputId": "27086591-a76e-43f4-c844-99e02806ac73"
      },
      "execution_count": 24,
      "outputs": [
        {
          "output_type": "stream",
          "name": "stdout",
          "text": [
            "Edad insuficiente para conducir\n"
          ]
        }
      ]
    },
    {
      "cell_type": "code",
      "source": [
        "def verificar_si_puede_conducir_sin_parametros():\n",
        "  edad = int(input('Digite su edad: '))\n",
        "  if edad >= 18: \n",
        "    print('Edad suficiente para conducir') \n",
        "  else: \n",
        "    print('Edad insuficiente para conducir')"
      ],
      "metadata": {
        "id": "J_expvnBs8nM"
      },
      "execution_count": 31,
      "outputs": []
    },
    {
      "cell_type": "code",
      "source": [
        "verificar_si_puede_conducir_sin_parametros()"
      ],
      "metadata": {
        "colab": {
          "base_uri": "https://localhost:8080/"
        },
        "id": "hvNd29qat7nq",
        "outputId": "cc1a3ec9-c99c-4e84-af85-ad0f07e014c7"
      },
      "execution_count": 32,
      "outputs": [
        {
          "output_type": "stream",
          "name": "stdout",
          "text": [
            "Digite su edad: 18\n",
            "Edad suficiente para conducir\n"
          ]
        }
      ]
    },
    {
      "cell_type": "code",
      "source": [
        "verificar_si_puede_conducir_sin_parametros()\n"
      ],
      "metadata": {
        "colab": {
          "base_uri": "https://localhost:8080/"
        },
        "id": "oTwtYlxpuBr6",
        "outputId": "8b0e7c19-08ec-443b-f676-f5064573f2d0"
      },
      "execution_count": 44,
      "outputs": [
        {
          "output_type": "stream",
          "name": "stdout",
          "text": [
            "Digite su edad: 12\n",
            "Edad insuficiente para conducir\n"
          ]
        }
      ]
    },
    {
      "cell_type": "markdown",
      "source": [
        "#Listas"
      ],
      "metadata": {
        "id": "KLp8KnX6wmuD"
      }
    },
    {
      "cell_type": "code",
      "source": [
        "edades = [12, 24, 56, 52]"
      ],
      "metadata": {
        "id": "vBwDxSLewo1u"
      },
      "execution_count": 36,
      "outputs": []
    },
    {
      "cell_type": "code",
      "source": [
        "type(edades)"
      ],
      "metadata": {
        "colab": {
          "base_uri": "https://localhost:8080/"
        },
        "id": "apL6WM2hwypm",
        "outputId": "ad30bb85-e675-496f-e55c-24b7590169ac"
      },
      "execution_count": 38,
      "outputs": [
        {
          "output_type": "execute_result",
          "data": {
            "text/plain": [
              "list"
            ]
          },
          "metadata": {},
          "execution_count": 38
        }
      ]
    },
    {
      "cell_type": "code",
      "source": [
        "edades[0]"
      ],
      "metadata": {
        "colab": {
          "base_uri": "https://localhost:8080/"
        },
        "id": "yw1_ItI1xDbK",
        "outputId": "39036c0f-ad52-4ac6-9672-0dd38a0ba794"
      },
      "execution_count": 39,
      "outputs": [
        {
          "output_type": "execute_result",
          "data": {
            "text/plain": [
              "12"
            ]
          },
          "metadata": {},
          "execution_count": 39
        }
      ]
    },
    {
      "cell_type": "code",
      "source": [
        "edades[1]"
      ],
      "metadata": {
        "colab": {
          "base_uri": "https://localhost:8080/"
        },
        "id": "srzwk5aOxUnY",
        "outputId": "2b522ec7-6131-4a05-87c7-b479f650458e"
      },
      "execution_count": 40,
      "outputs": [
        {
          "output_type": "execute_result",
          "data": {
            "text/plain": [
              "24"
            ]
          },
          "metadata": {},
          "execution_count": 40
        }
      ]
    },
    {
      "cell_type": "code",
      "source": [
        "edades[2]"
      ],
      "metadata": {
        "colab": {
          "base_uri": "https://localhost:8080/"
        },
        "id": "klGekz7HxYKs",
        "outputId": "4ed60212-8006-4310-d17b-eae88cc3d93f"
      },
      "execution_count": 41,
      "outputs": [
        {
          "output_type": "execute_result",
          "data": {
            "text/plain": [
              "56"
            ]
          },
          "metadata": {},
          "execution_count": 41
        }
      ]
    },
    {
      "cell_type": "code",
      "source": [
        "edades[3]\n"
      ],
      "metadata": {
        "colab": {
          "base_uri": "https://localhost:8080/"
        },
        "id": "1XJyd22UxaSp",
        "outputId": "1e0c456f-a8c6-4123-d90e-22904524f240"
      },
      "execution_count": 42,
      "outputs": [
        {
          "output_type": "execute_result",
          "data": {
            "text/plain": [
              "52"
            ]
          },
          "metadata": {},
          "execution_count": 42
        }
      ]
    },
    {
      "cell_type": "code",
      "source": [
        "len(edades)"
      ],
      "metadata": {
        "colab": {
          "base_uri": "https://localhost:8080/"
        },
        "id": "ofNr0tt3xeUh",
        "outputId": "44cc1b96-9d8c-4878-c616-9b81cada657a"
      },
      "execution_count": 43,
      "outputs": [
        {
          "output_type": "execute_result",
          "data": {
            "text/plain": [
              "4"
            ]
          },
          "metadata": {},
          "execution_count": 43
        }
      ]
    },
    {
      "cell_type": "code",
      "source": [
        "edades[0:2]\n",
        "# el segundo param en slaising es excluido"
      ],
      "metadata": {
        "colab": {
          "base_uri": "https://localhost:8080/"
        },
        "id": "NlEQcENxx5ip",
        "outputId": "ec9abdfb-f6cd-42b8-8e64-b07e0aa9c67b"
      },
      "execution_count": 45,
      "outputs": [
        {
          "output_type": "execute_result",
          "data": {
            "text/plain": [
              "[12, 24]"
            ]
          },
          "metadata": {},
          "execution_count": 45
        }
      ]
    },
    {
      "cell_type": "code",
      "source": [
        "edades[1:]\n",
        "# desde el indicado hasta el final "
      ],
      "metadata": {
        "colab": {
          "base_uri": "https://localhost:8080/"
        },
        "id": "jXHXJLcfyTIp",
        "outputId": "f82ef6cf-6bab-47c4-825e-eaa38f33e5c2"
      },
      "execution_count": 46,
      "outputs": [
        {
          "output_type": "execute_result",
          "data": {
            "text/plain": [
              "[24, 56, 52]"
            ]
          },
          "metadata": {},
          "execution_count": 46
        }
      ]
    },
    {
      "cell_type": "code",
      "source": [
        "edades[-1]"
      ],
      "metadata": {
        "colab": {
          "base_uri": "https://localhost:8080/"
        },
        "id": "1FcVM5mTysRk",
        "outputId": "51bbc8fe-94f3-4aa8-a9a7-92ee88ca2a84"
      },
      "execution_count": 47,
      "outputs": [
        {
          "output_type": "execute_result",
          "data": {
            "text/plain": [
              "52"
            ]
          },
          "metadata": {},
          "execution_count": 47
        }
      ]
    },
    {
      "cell_type": "code",
      "source": [
        "edades[-3]"
      ],
      "metadata": {
        "colab": {
          "base_uri": "https://localhost:8080/"
        },
        "id": "gzSZc1A2y8pA",
        "outputId": "98e2ec8d-8942-492e-ba2d-5c446b959887"
      },
      "execution_count": 48,
      "outputs": [
        {
          "output_type": "execute_result",
          "data": {
            "text/plain": [
              "24"
            ]
          },
          "metadata": {},
          "execution_count": 48
        }
      ]
    },
    {
      "cell_type": "code",
      "source": [
        "edades\n"
      ],
      "metadata": {
        "colab": {
          "base_uri": "https://localhost:8080/"
        },
        "id": "OKbaCqCJy_FB",
        "outputId": "37f1bd23-dcbf-40c9-f0ad-0a810e79c1a2"
      },
      "execution_count": 49,
      "outputs": [
        {
          "output_type": "execute_result",
          "data": {
            "text/plain": [
              "[12, 24, 56, 52]"
            ]
          },
          "metadata": {},
          "execution_count": 49
        }
      ]
    },
    {
      "cell_type": "code",
      "source": [
        "edades[:]"
      ],
      "metadata": {
        "colab": {
          "base_uri": "https://localhost:8080/"
        },
        "id": "URzoJRO3zBez",
        "outputId": "c80fdaf7-321c-49f3-fab1-84da71d21986"
      },
      "execution_count": 50,
      "outputs": [
        {
          "output_type": "execute_result",
          "data": {
            "text/plain": [
              "[12, 24, 56, 52]"
            ]
          },
          "metadata": {},
          "execution_count": 50
        }
      ]
    },
    {
      "cell_type": "markdown",
      "source": [
        "#Bucles y Ciclos (Loops)"
      ],
      "metadata": {
        "id": "tL8r9e52z9h4"
      }
    },
    {
      "cell_type": "code",
      "source": [
        "#bucles fuera de la funcion\n",
        "edades = [12, 23, 27, 51, 49]\n",
        "\n",
        "def verificar_edad_para_conducir(edad):\n",
        "  if edad >= 18:\n",
        "    print('Puede conducir')\n",
        "  else:\n",
        "    print('No puede conducir')\n",
        "\n",
        "for edad in edades:\n",
        " verificar_si_puede_conducir(edad)\n"
      ],
      "metadata": {
        "colab": {
          "base_uri": "https://localhost:8080/"
        },
        "id": "Mmp_0vTA0B9f",
        "outputId": "6162ef96-3aa0-4326-e84f-7fdc88ea9e7b"
      },
      "execution_count": 52,
      "outputs": [
        {
          "output_type": "stream",
          "name": "stdout",
          "text": [
            "Edad insuficiente para conducir\n",
            "Edad suficiente para conducir\n",
            "Edad suficiente para conducir\n",
            "Edad suficiente para conducir\n",
            "Edad suficiente para conducir\n"
          ]
        }
      ]
    },
    {
      "cell_type": "code",
      "source": [
        "#Bucle dentro de la funcion\n",
        "edades = [12, 23, 27, 51, 49]\n",
        "\n",
        "def verificar_edad_para_conducir_con_bucle(edades):\n",
        "  for edad in edades:\n",
        "    if edad >= 18:\n",
        "      print('Puede conducir')\n",
        "    else:\n",
        "      print('No puede conducir')\n",
        "\n",
        "verificar_edad_para_conducir_con_bucle(edades)"
      ],
      "metadata": {
        "colab": {
          "base_uri": "https://localhost:8080/"
        },
        "id": "F6yAiyIH1v8g",
        "outputId": "5ab93495-02c2-42bd-8537-86cb92a44686"
      },
      "execution_count": 57,
      "outputs": [
        {
          "output_type": "stream",
          "name": "stdout",
          "text": [
            "No puede conducir\n",
            "Puede conducir\n",
            "Puede conducir\n",
            "Puede conducir\n",
            "Puede conducir\n"
          ]
        }
      ]
    },
    {
      "cell_type": "markdown",
      "source": [
        "#Tipo Booleano"
      ],
      "metadata": {
        "id": "ySMmLUmq4N64"
      }
    },
    {
      "cell_type": "code",
      "source": [
        "edad = 18"
      ],
      "metadata": {
        "id": "jra_uBw_4Qoh"
      },
      "execution_count": 1,
      "outputs": []
    },
    {
      "cell_type": "code",
      "source": [
        "edad >= 18"
      ],
      "metadata": {
        "colab": {
          "base_uri": "https://localhost:8080/"
        },
        "id": "hTraMqeDha4Q",
        "outputId": "8907e8b9-cd46-4250-8097-7d7977b93c02"
      },
      "execution_count": 2,
      "outputs": [
        {
          "output_type": "execute_result",
          "data": {
            "text/plain": [
              "True"
            ]
          },
          "metadata": {},
          "execution_count": 2
        }
      ]
    },
    {
      "cell_type": "code",
      "source": [
        "edad < 18"
      ],
      "metadata": {
        "colab": {
          "base_uri": "https://localhost:8080/"
        },
        "id": "bpN4rtW1heA-",
        "outputId": "7ded2752-0d72-40b6-a6c9-faae04cd86ef"
      },
      "execution_count": 3,
      "outputs": [
        {
          "output_type": "execute_result",
          "data": {
            "text/plain": [
              "False"
            ]
          },
          "metadata": {},
          "execution_count": 3
        }
      ]
    },
    {
      "cell_type": "code",
      "source": [
        "edad == 18"
      ],
      "metadata": {
        "colab": {
          "base_uri": "https://localhost:8080/"
        },
        "id": "vWmFLLpOhjO6",
        "outputId": "7f3dff53-04d1-48f3-e6ea-d5d053499927"
      },
      "execution_count": 4,
      "outputs": [
        {
          "output_type": "execute_result",
          "data": {
            "text/plain": [
              "True"
            ]
          },
          "metadata": {},
          "execution_count": 4
        }
      ]
    },
    {
      "cell_type": "code",
      "source": [
        "verificaciones = []\n",
        "edades = [13, 17, 21]\n",
        "\n",
        "def verificar_si_puede_conducir_bool(verificaciones, edades):\n",
        "  for edad in edades:\n",
        "    if edad >= 18:\n",
        "      verificaciones.append(True)\n",
        "    else:\n",
        "      verificaciones.append(False)\n",
        "  for verificacion in verificaciones: \n",
        "    if verificacion == True: \n",
        "      print('Tiene edad suficiente para conducir')\n",
        "    else: \n",
        "      print('No tiene edad suficiente para conducir')\n",
        "\n",
        "verificar_si_puede_conducir_bool(verificaciones, edades)"
      ],
      "metadata": {
        "colab": {
          "base_uri": "https://localhost:8080/"
        },
        "id": "mUxC_lpRhmmS",
        "outputId": "558fafa4-0b91-4112-8526-8ac932c6667a"
      },
      "execution_count": 9,
      "outputs": [
        {
          "output_type": "stream",
          "name": "stdout",
          "text": [
            "No tiene edad suficiente para conducir\n",
            "No tiene edad suficiente para conducir\n",
            "Tiene edad suficiente para conducir\n"
          ]
        }
      ]
    },
    {
      "cell_type": "code",
      "source": [
        "verificaciones"
      ],
      "metadata": {
        "colab": {
          "base_uri": "https://localhost:8080/"
        },
        "id": "aOFE3_Zbhyp6",
        "outputId": "18e33d71-72c9-4341-b400-62224d0a9069"
      },
      "execution_count": 7,
      "outputs": [
        {
          "output_type": "execute_result",
          "data": {
            "text/plain": [
              "[False, False, True]"
            ]
          },
          "metadata": {},
          "execution_count": 7
        }
      ]
    },
    {
      "cell_type": "markdown",
      "source": [
        "#Tipos de Listas "
      ],
      "metadata": {
        "id": "jzUQCUg9j9YQ"
      }
    },
    {
      "cell_type": "code",
      "source": [
        "lista_mixta = ['Marcelo', 29, True, 'Argentina']"
      ],
      "metadata": {
        "id": "cajwOPOcj_0c"
      },
      "execution_count": 10,
      "outputs": []
    },
    {
      "cell_type": "code",
      "source": [
        "lista_mixta"
      ],
      "metadata": {
        "colab": {
          "base_uri": "https://localhost:8080/"
        },
        "id": "3nisI7xVkgaK",
        "outputId": "97ef3ac4-99c8-4bff-f61e-56dc2b3ab834"
      },
      "execution_count": 11,
      "outputs": [
        {
          "output_type": "execute_result",
          "data": {
            "text/plain": [
              "['Marcelo', 29, True, 'Argentina']"
            ]
          },
          "metadata": {},
          "execution_count": 11
        }
      ]
    },
    {
      "cell_type": "code",
      "source": [
        "for elemento in lista_mixta:\n",
        "  print(f'El elemento {elemento} de la lista es del tipo ', type(elemento))"
      ],
      "metadata": {
        "colab": {
          "base_uri": "https://localhost:8080/"
        },
        "id": "cLRlooLDkkrz",
        "outputId": "b6e2c395-80db-41e2-d6c8-fd50a4b155f4"
      },
      "execution_count": 12,
      "outputs": [
        {
          "output_type": "stream",
          "name": "stdout",
          "text": [
            "El elemento Marcelo de la lista es del tipo  <class 'str'>\n",
            "El elemento 29 de la lista es del tipo  <class 'int'>\n",
            "El elemento True de la lista es del tipo  <class 'bool'>\n",
            "El elemento Argentina de la lista es del tipo  <class 'str'>\n"
          ]
        }
      ]
    },
    {
      "cell_type": "markdown",
      "source": [
        "#Importar Biblioteca"
      ],
      "metadata": {
        "id": "hguhcc-ol3Xb"
      }
    },
    {
      "cell_type": "code",
      "source": [
        "#import random (importamos la biblioteca completa)\n",
        "from random import randrange, seed #importamos solo dos modulos de la biblioteca "
      ],
      "metadata": {
        "id": "i_0qHyLVl5-x"
      },
      "execution_count": 42,
      "outputs": []
    },
    {
      "cell_type": "code",
      "source": [
        "randrange(0,11)"
      ],
      "metadata": {
        "colab": {
          "base_uri": "https://localhost:8080/"
        },
        "id": "dTecdLgGnBGJ",
        "outputId": "7d0e3952-523f-4096-f108-84e7f830b2a4"
      },
      "execution_count": 14,
      "outputs": [
        {
          "output_type": "execute_result",
          "data": {
            "text/plain": [
              "5"
            ]
          },
          "metadata": {},
          "execution_count": 14
        }
      ]
    },
    {
      "cell_type": "code",
      "source": [
        "randrange(0,11)"
      ],
      "metadata": {
        "colab": {
          "base_uri": "https://localhost:8080/"
        },
        "id": "kB892auLnPGF",
        "outputId": "282adf26-d27d-4e25-9bf8-6fd44f10988a"
      },
      "execution_count": 15,
      "outputs": [
        {
          "output_type": "execute_result",
          "data": {
            "text/plain": [
              "6"
            ]
          },
          "metadata": {},
          "execution_count": 15
        }
      ]
    },
    {
      "cell_type": "code",
      "source": [
        "randrange(0,11)"
      ],
      "metadata": {
        "colab": {
          "base_uri": "https://localhost:8080/"
        },
        "id": "Umr9_s8PnTLs",
        "outputId": "14636f16-2f7a-4bfe-9083-79f1ca411ffa"
      },
      "execution_count": 16,
      "outputs": [
        {
          "output_type": "execute_result",
          "data": {
            "text/plain": [
              "4"
            ]
          },
          "metadata": {},
          "execution_count": 16
        }
      ]
    },
    {
      "cell_type": "markdown",
      "source": [
        "#Lista con numeros aleatorios"
      ],
      "metadata": {
        "id": "iSrIctHkn0ph"
      }
    },
    {
      "cell_type": "code",
      "source": [
        "notas_matematicas = []"
      ],
      "metadata": {
        "id": "B_1EOFdFn4iX"
      },
      "execution_count": 29,
      "outputs": []
    },
    {
      "cell_type": "code",
      "source": [
        "notas_matematicas.append(randrange(0,11))"
      ],
      "metadata": {
        "id": "Kc2JoLNroGdc"
      },
      "execution_count": 32,
      "outputs": []
    },
    {
      "cell_type": "code",
      "source": [
        "notas_matematicas"
      ],
      "metadata": {
        "colab": {
          "base_uri": "https://localhost:8080/"
        },
        "id": "DtpPlS9fo3QL",
        "outputId": "17a07a68-8f52-4d64-f4cc-36f225fdd327"
      },
      "execution_count": 35,
      "outputs": [
        {
          "output_type": "execute_result",
          "data": {
            "text/plain": [
              "[8, 4, 6]"
            ]
          },
          "metadata": {},
          "execution_count": 35
        }
      ]
    },
    {
      "cell_type": "code",
      "source": [
        "notas_matematicas = []\n",
        "seed(8) \n",
        "for nota in range(6):\n",
        "  notas_matematicas.append(randrange(0,11))"
      ],
      "metadata": {
        "id": "TAjeNgUSpA5B"
      },
      "execution_count": 43,
      "outputs": []
    },
    {
      "cell_type": "code",
      "source": [
        "notas_matematicas"
      ],
      "metadata": {
        "colab": {
          "base_uri": "https://localhost:8080/"
        },
        "id": "kMp4WGiZpR6k",
        "outputId": "65d53949-30f8-40d4-871a-d5f67ef05a5c"
      },
      "execution_count": 47,
      "outputs": [
        {
          "output_type": "execute_result",
          "data": {
            "text/plain": [
              "[3, 5, 6, 2, 3, 0]"
            ]
          },
          "metadata": {},
          "execution_count": 47
        }
      ]
    },
    {
      "cell_type": "code",
      "source": [
        "len(notas_matematicas)"
      ],
      "metadata": {
        "colab": {
          "base_uri": "https://localhost:8080/"
        },
        "id": "mILgEOHHpUWp",
        "outputId": "3a6870b9-eb16-448a-827d-f4c00c7c1503"
      },
      "execution_count": 40,
      "outputs": [
        {
          "output_type": "execute_result",
          "data": {
            "text/plain": [
              "6"
            ]
          },
          "metadata": {},
          "execution_count": 40
        }
      ]
    },
    {
      "cell_type": "markdown",
      "source": [
        "#Crear un Grafico con Matplotlib(biblioteca)"
      ],
      "metadata": {
        "id": "cfdj7-FLqo6A"
      }
    },
    {
      "cell_type": "code",
      "source": [
        "import matplotlib.pyplot as plt #as para apodar el modulo (buena practica)"
      ],
      "metadata": {
        "id": "zy7ZOPsJqseo"
      },
      "execution_count": 48,
      "outputs": []
    },
    {
      "cell_type": "code",
      "source": [
        "list(range(1,7))"
      ],
      "metadata": {
        "colab": {
          "base_uri": "https://localhost:8080/"
        },
        "id": "sFyuWRMir-0M",
        "outputId": "43a56c23-ac4c-45d0-a426-7093e0379b4c"
      },
      "execution_count": 49,
      "outputs": [
        {
          "output_type": "execute_result",
          "data": {
            "text/plain": [
              "[1, 2, 3, 4, 5, 6]"
            ]
          },
          "metadata": {},
          "execution_count": 49
        }
      ]
    },
    {
      "cell_type": "code",
      "source": [
        "from matplotlib import markers\n",
        "x = list(range(1,7))\n",
        "y = notas_matematicas\n",
        "\n",
        "plt.plot(x,y, marker = 'o') #metodo de plt para graficar marker --> para agregar un marcador con 'o' asignamos un punto\n",
        "plt.title('Grafico notas Matematicas') #metodo title para agregar titulo\n",
        "plt.xlabel('Examenes')#titulo de eje \n",
        "plt.ylabel('Notas') #titulo de eje\n",
        "plt.show() #elimmina los datos por defecto del titulo y muestra solo lo que asignamos"
      ],
      "metadata": {
        "colab": {
          "base_uri": "https://localhost:8080/",
          "height": 295
        },
        "id": "Dla1MsucsL2m",
        "outputId": "4987aa93-f2f9-4e09-9c0a-af8d69f66f9e"
      },
      "execution_count": 57,
      "outputs": [
        {
          "output_type": "display_data",
          "data": {
            "text/plain": [
              "<Figure size 432x288 with 1 Axes>"
            ],
            "image/png": "[encoded data removed]"
          },
          "metadata": {
            "needs_background": "light"
          }
        }
      ]
    }
  ]
}